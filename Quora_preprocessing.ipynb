{
  "nbformat": 4,
  "nbformat_minor": 0,
  "metadata": {
    "kernelspec": {
      "display_name": "Python 3",
      "language": "python",
      "name": "python3"
    },
    "language_info": {
      "codemirror_mode": {
        "name": "ipython",
        "version": 3
      },
      "file_extension": ".py",
      "mimetype": "text/x-python",
      "name": "python",
      "nbconvert_exporter": "python",
      "pygments_lexer": "ipython3",
      "version": "3.7.3"
    },
    "colab": {
      "name": "Quora_preprocessing.ipynb",
      "version": "0.3.2",
      "provenance": []
    }
  },
  "cells": [
    {
      "cell_type": "markdown",
      "metadata": {
        "id": "FirsGEC1iplZ",
        "colab_type": "text"
      },
      "source": [
        "# 데이터 전처리"
      ]
    },
    {
      "cell_type": "code",
      "metadata": {
        "id": "EeO6hHXqiplc",
        "colab_type": "code",
        "colab": {}
      },
      "source": [
        "import pandas as pd\n",
        "import numpy as np\n",
        "import re\n",
        "import json"
      ],
      "execution_count": 0,
      "outputs": []
    },
    {
      "cell_type": "code",
      "metadata": {
        "id": "frG4Qsnyiplg",
        "colab_type": "code",
        "colab": {}
      },
      "source": [
        "DATA_IN_PATH = r'/data_in/'\n",
        "\n",
        "TRAIN_INPUT_DATA = 'train.csv'\n",
        "\n",
        "train_data = pd.read_csv(DATA_IN_PATH + TRAIN_INPUT_DATA)"
      ],
      "execution_count": 0,
      "outputs": []
    },
    {
      "cell_type": "markdown",
      "metadata": {
        "id": "xQ2Miqdqipli",
        "colab_type": "text"
      },
      "source": [
        "# 두 라벨의 개수의 균형 맞추기"
      ]
    },
    {
      "cell_type": "code",
      "metadata": {
        "id": "pMs8o7DGiplj",
        "colab_type": "code",
        "colab": {}
      },
      "source": [
        "train_pos_data = train_data.loc[train_data['is_duplicate'] == 1] # 중복된 질문\n",
        "train_neg_data = train_data.loc[train_data['is_duplicate'] == 0] # 중복이 아닌 질문\n",
        "\n",
        "class_difference = len(train_neg_data) - len(train_pos_data) # 두 라벨 개수의 차\n",
        "\n",
        "# 샘플링 하기 위해 적은 데이터(중복 질문)의 개수가 많은 데이터(중복이 아닌 질문)에 대한 비율을 계산한다\n",
        "sample_frac = 1 - (class_difference / len(train_neg_data))\n",
        "train_neg_data = train_neg_data.sample(frac=sample_frac)"
      ],
      "execution_count": 0,
      "outputs": []
    },
    {
      "cell_type": "code",
      "metadata": {
        "id": "-S4CKDrTiplm",
        "colab_type": "code",
        "colab": {},
        "outputId": "c880413e-064f-44cb-9fd4-49b83c31649a"
      },
      "source": [
        "print('중복 질문 개수 : {}'.format(len(train_pos_data)))\n",
        "print('중복이 아닌 질문 개수 : {}'.format(len(train_neg_data)))"
      ],
      "execution_count": 0,
      "outputs": [
        {
          "output_type": "stream",
          "text": [
            "중복 질문 개수 : 149263\n",
            "중복이 아닌 질문 개수 : 149263\n"
          ],
          "name": "stdout"
        }
      ]
    },
    {
      "cell_type": "code",
      "metadata": {
        "id": "DveZMMfripls",
        "colab_type": "code",
        "colab": {}
      },
      "source": [
        "# 라벨에 따라 나눠진 데이터를 다시 합친다\n",
        "train_data = pd.concat([train_neg_data, train_pos_data])"
      ],
      "execution_count": 0,
      "outputs": []
    },
    {
      "cell_type": "code",
      "metadata": {
        "id": "f3zQa5PEiplv",
        "colab_type": "code",
        "colab": {}
      },
      "source": [
        "FILTERS = \"([~.,!?\\\"':;)(])\" # 제거하고자 하는 기호를 정규 표현식으로 나타낸 문자열\n",
        "change_filter = re.compile(FILTERS) # 패턴 객체 생성\n",
        "\n",
        "question1 = [str(s) for s in train_data['question1']]\n",
        "question2 = [str(s) for s in train_data['question2']] #question2 = [s for s in train_data['question2'].apply(str)]\n",
        "\n",
        "filtered_question1s = list()\n",
        "filtered_question2s = list()\n",
        "\n",
        "for q in question1:\n",
        "    # 앞서 정의한 필터에 해당하는 문자열을 제거하고 모든 알파벳 문자를 소문자로 만든다\n",
        "    filtered_question1s.append(re.sub(change_filter, \"\", q).lower())\n",
        "\n",
        "for q in question2:\n",
        "    filtered_question2s.append(re.sub(change_filter, \"\", q).lower())"
      ],
      "execution_count": 0,
      "outputs": []
    },
    {
      "cell_type": "code",
      "metadata": {
        "id": "agniaLzHiply",
        "colab_type": "code",
        "colab": {}
      },
      "source": [
        "from nltk.corpus import stopwords\n",
        "\n",
        "def remove_stopword(question, remove_stopwords=False):\n",
        "    words = question.split()\n",
        "    \n",
        "    if remove_stopwords:\n",
        "        stop_words = set(stopwords.words('english'))\n",
        "        words = [w for w in words if not w in stop_words]\n",
        "        clean_review = ' '.join(words)\n",
        "    \n",
        "    else:\n",
        "        clean_review = ' '.join(words)\n",
        "    return clean_review"
      ],
      "execution_count": 0,
      "outputs": []
    },
    {
      "cell_type": "code",
      "metadata": {
        "id": "sd-BsiJmipl1",
        "colab_type": "code",
        "colab": {}
      },
      "source": [
        "filtered_question1 = []\n",
        "for q in filtered_question1s:\n",
        "    filtered_question1.append(remove_stopword(q, remove_stopwords = True))\n",
        "    \n",
        "filtered_question2 = []\n",
        "for q in filtered_question2s:\n",
        "    filtered_question2.append(remove_stopword(q, remove_stopwords = True))"
      ],
      "execution_count": 0,
      "outputs": []
    },
    {
      "cell_type": "code",
      "metadata": {
        "id": "9l8ysrLaipl4",
        "colab_type": "code",
        "colab": {},
        "outputId": "23e38cb4-2018-4148-df4c-8b5bd1c0ff54"
      },
      "source": [
        "filtered_question1[:10]"
      ],
      "execution_count": 0,
      "outputs": [
        {
          "output_type": "execute_result",
          "data": {
            "text/plain": [
              "['dispose e-waste india',\n",
              " 'study class 11th biology',\n",
              " 'way hold prenup postnup agreements legal indian court law',\n",
              " 'makes election democratic',\n",
              " 'handwriting tell person',\n",
              " 'important truthfulness',\n",
              " 'find owner google sheet',\n",
              " 'deal arrogant coworker',\n",
              " 'difference high mortality rate low mortality rate',\n",
              " 'brit know canada visiting first time']"
            ]
          },
          "metadata": {
            "tags": []
          },
          "execution_count": 12
        }
      ]
    },
    {
      "cell_type": "code",
      "metadata": {
        "id": "TBA67Givipl7",
        "colab_type": "code",
        "colab": {}
      },
      "source": [
        "from tensorflow.python.keras.preprocessing.text import Tokenizer\n",
        "\n",
        "tokenizer = Tokenizer()\n",
        "tokenizer.fit_on_texts(filtered_question1 + filtered_question2)\n",
        "word_vocab = tokenizer.word_index"
      ],
      "execution_count": 0,
      "outputs": []
    },
    {
      "cell_type": "code",
      "metadata": {
        "id": "v7vegvPAipl_",
        "colab_type": "code",
        "colab": {}
      },
      "source": [
        "question1_sequence = tokenizer.texts_to_sequences(filtered_question1)\n",
        "question2_sequence = tokenizer.texts_to_sequences(filtered_question2)"
      ],
      "execution_count": 0,
      "outputs": []
    },
    {
      "cell_type": "code",
      "metadata": {
        "id": "Uxa29nMjipmC",
        "colab_type": "code",
        "colab": {}
      },
      "source": [
        "from tensorflow.python.keras.preprocessing.sequence import pad_sequences\n",
        "\n",
        "MAX_SEQUENCE_LENGTH = 31\n",
        "\n",
        "q1_data = pad_sequences(question1_sequence, maxlen=MAX_SEQUENCE_LENGTH, padding='post')\n",
        "q2_data = pad_sequences(question2_sequence, maxlen=MAX_SEQUENCE_LENGTH, padding='post')"
      ],
      "execution_count": 0,
      "outputs": []
    },
    {
      "cell_type": "code",
      "metadata": {
        "id": "9_cd59MOipmG",
        "colab_type": "code",
        "colab": {},
        "outputId": "3fa53467-e6a4-4538-afbd-c3abd6ef23ae"
      },
      "source": [
        "labels = np.array(train_data['is_duplicate'], dtype=int)\n",
        "\n",
        "print('Shape of question1 data: {}'.format(q1_data.shape))\n",
        "print('Shape of question2 data: {}'.format(q2_data.shape))\n",
        "print('Shape of label: {}'.format(labels.shape))\n",
        "print('Words in index: {}'.format(len(word_vocab)))"
      ],
      "execution_count": 0,
      "outputs": [
        {
          "output_type": "stream",
          "text": [
            "Shape of question1 data: (298526, 31)\n",
            "Shape of question2 data: (298526, 31)\n",
            "Shape of label: (298526,)\n",
            "Words in index: 76323\n"
          ],
          "name": "stdout"
        }
      ]
    },
    {
      "cell_type": "code",
      "metadata": {
        "id": "ZSaXd6-sipmK",
        "colab_type": "code",
        "colab": {}
      },
      "source": [
        "data_configs = {}\n",
        "data_configs['vocab'] = word_vocab\n",
        "data_configs['vocab_size'] = len(word_vocab) + 1"
      ],
      "execution_count": 0,
      "outputs": []
    },
    {
      "cell_type": "code",
      "metadata": {
        "id": "Nk_e8hkOipmN",
        "colab_type": "code",
        "colab": {}
      },
      "source": [
        "TRAIN_Q1_DATA = 'q1_train.npy'\n",
        "TRAIN_Q2_DATA = 'q2_train.npy'\n",
        "TRAIN_LABEL_DATA = 'label_train.npy'\n",
        "DATA_CONFIGS = 'data_configs.npy'\n",
        "\n",
        "np.save(open(DATA_IN_PATH + TRAIN_Q1_DATA, 'wb'), q1_data)\n",
        "np.save(open(DATA_IN_PATH + TRAIN_Q2_DATA, 'wb'), q2_data)\n",
        "np.save(open(DATA_IN_PATH + TRAIN_LABEL_DATA, 'wb'), labels)\n",
        "\n",
        "json.dump(data_configs, open(DATA_IN_PATH + DATA_CONFIGS, 'w'))"
      ],
      "execution_count": 0,
      "outputs": []
    },
    {
      "cell_type": "markdown",
      "metadata": {
        "id": "FJE05PLvipmR",
        "colab_type": "text"
      },
      "source": [
        "# 평가 데이터 전처리"
      ]
    },
    {
      "cell_type": "code",
      "metadata": {
        "id": "6vJEAKUMipmR",
        "colab_type": "code",
        "colab": {}
      },
      "source": [
        "test_data = pd.read_csv(DATA_IN_PATH + 'test.csv')\n",
        "#valid_ids = [type(x) == int for x in test_data['test_id']]\n",
        "#test_data = test_data[valid_ids].drop_duplicates() ... drop_duplcates : 중복 값 제거\n",
        "#test_data['test_id'].duplicated().sum()"
      ],
      "execution_count": 0,
      "outputs": []
    },
    {
      "cell_type": "code",
      "metadata": {
        "id": "CKlBFMkkipmU",
        "colab_type": "code",
        "colab": {}
      },
      "source": [
        "test_questions1 = [str(s) for s in test_data['question1']]\n",
        "test_questions2 = [str(s) for s in test_data['question2']]\n",
        "\n",
        "filtered_test_questions1s = list()\n",
        "filtered_test_questions2s = list()\n",
        "\n",
        "for q in test_questions1:\n",
        "    filtered_test_questions1s.append(re.sub(change_filter, \"\", q).lower())\n",
        "\n",
        "for q in test_questions2:\n",
        "    filtered_test_questions2s.append(re.sub(change_filter, \"\", q).lower())"
      ],
      "execution_count": 0,
      "outputs": []
    },
    {
      "cell_type": "code",
      "metadata": {
        "id": "5UaPuNUwipmW",
        "colab_type": "code",
        "colab": {}
      },
      "source": [
        "filtered_test_question1 = []\n",
        "for q in filtered_test_questions1s:\n",
        "    filtered_test_question1.append(remove_stopword(q, remove_stopwords = True))\n",
        "    \n",
        "filtered_test_question2 = []\n",
        "for q in filtered_test_questions2s:\n",
        "    filtered_test_question2.append(remove_stopword(q, remove_stopwords = True))"
      ],
      "execution_count": 0,
      "outputs": []
    },
    {
      "cell_type": "code",
      "metadata": {
        "id": "qm8bfN93ipmZ",
        "colab_type": "code",
        "colab": {}
      },
      "source": [
        "test_questions1_sequence = tokenizer.texts_to_sequences(filtered_test_question1)\n",
        "test_questions2_sequence = tokenizer.texts_to_sequences(filtered_test_question2)\n",
        "\n",
        "test_q1_data = pad_sequences(test_questions1_sequence, maxlen=MAX_SEQUENCE_LENGTH, padding='post')\n",
        "test_q2_data = pad_sequences(test_questions2_sequence, maxlen=MAX_SEQUENCE_LENGTH, padding='post')"
      ],
      "execution_count": 0,
      "outputs": []
    },
    {
      "cell_type": "code",
      "metadata": {
        "id": "6-np3xCBipmg",
        "colab_type": "code",
        "colab": {},
        "outputId": "cf9fdfc5-6241-4a51-d71b-5794342a56df"
      },
      "source": [
        "test_id = np.array(test_data['test_id'])\n",
        "\n",
        "print('Shape of question1 data: {}'.format(test_q1_data.shape))\n",
        "print('Shape of question2 data: {}'.format(test_q2_data.shape))\n",
        "print('Shape of ids: {}'.format(test_id.shape))"
      ],
      "execution_count": 0,
      "outputs": [
        {
          "output_type": "stream",
          "text": [
            "Shape of question1 data: (2345796, 31)\n",
            "Shape of question2 data: (2345796, 31)\n",
            "Shape of ids: (2345796,)\n"
          ],
          "name": "stdout"
        }
      ]
    },
    {
      "cell_type": "code",
      "metadata": {
        "id": "FMyLiD-iipmp",
        "colab_type": "code",
        "colab": {}
      },
      "source": [
        "TEST_Q1_DATA = 'test_q1.npy'\n",
        "TEST_Q2_DATA = 'test_q2.npy'\n",
        "TEST_ID_DATA = 'test_id.npy'\n",
        "\n",
        "np.save(open(DATA_IN_PATH + TEST_Q1_DATA, 'wb'), test_q1_data)\n",
        "np.save(open(DATA_IN_PATH + TEST_Q2_DATA, 'wb'), test_q2_data)\n",
        "np.save(open(DATA_IN_PATH + TEST_ID_DATA, 'wb'), test_id)"
      ],
      "execution_count": 0,
      "outputs": []
    }
  ]
}